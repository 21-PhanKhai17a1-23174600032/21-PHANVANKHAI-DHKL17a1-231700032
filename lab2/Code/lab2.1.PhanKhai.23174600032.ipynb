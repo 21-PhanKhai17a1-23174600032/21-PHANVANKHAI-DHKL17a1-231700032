{
 "cells": [
  {
   "cell_type": "markdown",
   "metadata": {},
   "source": [
    "1. Tạo Dữ Liệu Mô Phỏng Nhiệt Độ: (10 phút)\n",
    " Hãy tạo một mảng Numpy mô phỏng dữ liệu nhiệt độ hàng ngày trong một tháng là\n",
    "số thực. Làm tròn dữ liệu đến 2 chữ số sau dấu phẩy\n",
    " Cho biết nhiệt độ trung bình trong tháng là bao nhiêu?"
   ]
  },
  {
   "cell_type": "code",
   "execution_count": 1,
   "metadata": {},
   "outputs": [
    {
     "name": "stdout",
     "output_type": "stream",
     "text": [
      "nhiệt độ trong tháng : \n",
      " [14.36 26.77 22.95 17.42 28.52 14.64 20.53 15.51 24.68 24.1  20.13 19.85\n",
      " 15.69 23.85 27.54 16.02 14.13 12.86 24.55 21.23 25.82 27.97 11.6  27.07\n",
      " 20.12 22.64 15.9  23.85 15.15 13.66]\n",
      "nhiệt độ trung bình trong tháng: 20.303666666666665\n"
     ]
    }
   ],
   "source": [
    "import numpy as np\n",
    "# tạo mảng mô phỏng dữ liệu nhiệt độ hàng ngày trong 1 tháng với số thực\n",
    "#nhiệt độ trong khoảng từ 10.0 đến 30.0 độ C\n",
    "nhiet_do=np.round(np.random.uniform(10.0,30.0,size=30),2)\n",
    "print(\"nhiệt độ trong tháng : \\n\",nhiet_do)\n",
    "print(\"nhiệt độ trung bình trong tháng:\",np.mean(nhiet_do))"
   ]
  },
  {
   "cell_type": "markdown",
   "metadata": {},
   "source": [
    "2. Phân Tích Xu Hướng Nhiệt Độ: (5-10 phút)\n",
    "2.1 Xác định ngày có nhiệt độ cao nhất, thấp nhất cho biết đó là ngày thứ mấy trong\n",
    "tháng?\n",
    "2.2 Thống kê sự chênh lệch nhiệt độ giữa các ngày, tìm ngày có sự biến đổi nhiệt độ cao\n",
    "nhất?"
   ]
  },
  {
   "cell_type": "code",
   "execution_count": 2,
   "metadata": {},
   "outputs": [
    {
     "name": "stdout",
     "output_type": "stream",
     "text": [
      "nhiệt độ cao nhất trong tháng: 28.52\n",
      "nhiệt độ bé nhất trong tháng: 11.6\n",
      "ngày có nhiệt độ cao nhất trong tháng: 5\n",
      "ngày có nhiệt độ bé nhất trong tháng: 23\n"
     ]
    }
   ],
   "source": [
    "# tìm nhiệt độ cao nhất và thấp nhất\n",
    "max_temp = np.max(nhiet_do)\n",
    "min_temp = np.min(nhiet_do)\n",
    "# tìm ngày có nhiệt độ cao nhất trong tháng\n",
    "#tìm ngày có nhiệt độ thấp nhát trong tháng\n",
    "day_max_temp = np.argmax(nhiet_do)+1\n",
    "day_min_temp = np.argmin(nhiet_do)+1\n",
    "\n",
    "print(f\"nhiệt độ cao nhất trong tháng:\",max_temp)\n",
    "print(f\"nhiệt độ bé nhất trong tháng:\",min_temp)\n",
    "\n",
    "print(f\"ngày có nhiệt độ cao nhất trong tháng:\", day_max_temp)\n",
    "print(f\"ngày có nhiệt độ bé nhất trong tháng:\",day_min_temp)"
   ]
  },
  {
   "cell_type": "code",
   "execution_count": 3,
   "metadata": {},
   "outputs": [
    {
     "name": "stdout",
     "output_type": "stream",
     "text": [
      "sự chênh lệch nhiệt độ giữa các ngày: [ 12.41  -3.82  -5.53  11.1  -13.88   5.89  -5.02   9.17  -0.58  -3.97\n",
      "  -0.28  -4.16   8.16   3.69 -11.52  -1.89  -1.27  11.69  -3.32   4.59\n",
      "   2.15 -16.37  15.47  -6.95   2.52  -6.74   7.95  -8.7   -1.49]\n",
      "ngày có sự biến đổi nhiệt độ cao nhất: -16.369999999999997\n"
     ]
    }
   ],
   "source": [
    "# tạo mảng chứa nhiệt độ của ngày hôm trước ( trừ ngày cuối cùng trong tháng của nhiet_do)\n",
    "ngay_truoc=nhiet_do[:-1]\n",
    "# tạo mảng nhiệt độ của ngày hôm sau ( trừ ngày đầu tiên ) của nang nhiet do\n",
    "ngay_sau= nhiet_do[1:]\n",
    "# tính toán sự chênh lệch nhiệt độ giữa ngày hôm sau và ngày hôm trước\n",
    "chenh_lech= ngay_sau - ngay_truoc\n",
    "# xac dinh ngay có chênh lệch lớn nhất\n",
    "dff_max= np.argmax(np.abs(chenh_lech)) +1 \n",
    "max_chenh_lech= chenh_lech[dff_max -1]\n",
    "print(f\"sự chênh lệch nhiệt độ giữa các ngày:\",chenh_lech)\n",
    "print(f\"ngày có sự biến đổi nhiệt độ cao nhất:\",max_chenh_lech)"
   ]
  },
  {
   "cell_type": "markdown",
   "metadata": {},
   "source": [
    "3. Áp dụng Fancy Indexing: (10 phút)\n",
    "3.1Đưa ra tất cả các ngày có nhiệt độ cao hơn 20 độ C.\n",
    "3.2Lấy nhiệt độ của ngày 5, 10, 15, 20, và 25.\n",
    "3.3Tìm nhiệt độ của các ngày có nhiệt độ trên trung bình.\n",
    "3.4Lấy nhiệt độ của các ngày chẵn/lẻ trong tháng.\n"
   ]
  },
  {
   "cell_type": "code",
   "execution_count": 10,
   "metadata": {},
   "outputs": [
    {
     "name": "stdout",
     "output_type": "stream",
     "text": [
      "nhiệt độ lớn hơn 20: [26.77 22.95 28.52 20.53 24.68 24.1  20.13 23.85 27.54 24.55 21.23 25.82\n",
      " 27.97 27.07 20.12 22.64 23.85]\n",
      "nhiệt độ các ngày 5,10,15,20 và 25: [28.52 24.1  27.54 21.23 20.12]\n",
      "nhiệt độ trung bình : 20.303666666666665\n",
      "nhiệt độ các ngày chẳn: [26.77 17.42 14.64 15.51 24.1  19.85 23.85 16.02 12.86 21.23 27.97 27.07\n",
      " 22.64 23.85 13.66]\n",
      "nhiệt độ các ngày lẻ: [14.36 22.95 28.52 20.53 24.68 20.13 15.69 27.54 14.13 24.55 25.82 11.6\n",
      " 20.12 15.9  15.15]\n"
     ]
    }
   ],
   "source": [
    "\n",
    "# 3.1\n",
    "nhietdolonhon20 = nhiet_do[nhiet_do>20]\n",
    "print(f\"nhiệt độ lớn hơn 20:\",nhietdolonhon20)\n",
    "#3.2 lấy nhiệt độ các ngày 5,10,15,20 và 25\n",
    "specific_days=nhiet_do[[4,9,14,19,24]]\n",
    "print(f\"nhiệt độ các ngày 5,10,15,20 và 25:\",specific_days)\n",
    "#3.3 tìm nhiệt độ của các ngày có nhiệt độ trên trung bình\n",
    "nhiet_do_tb = np.mean(nhiet_do)\n",
    "above_average = nhiet_do[nhiet_do>nhiet_do_tb]\n",
    "print(f\"nhiệt độ trung bình :\",nhiet_do_tb)\n",
    "#3.4 lấy nhiệt độ ngày chẵn ngày lẻ \n",
    "ngay_chan=nhiet_do[1::2]\n",
    "ngay_le=nhiet_do[0::2]\n",
    "print(f\"nhiệt độ các ngày chẳn:\",ngay_chan)\n",
    "print(f\"nhiệt độ các ngày lẻ:\",ngay_le)"
   ]
  }
 ],
 "metadata": {
  "kernelspec": {
   "display_name": "Python 3",
   "language": "python",
   "name": "python3"
  },
  "language_info": {
   "codemirror_mode": {
    "name": "ipython",
    "version": 3
   },
   "file_extension": ".py",
   "mimetype": "text/x-python",
   "name": "python",
   "nbconvert_exporter": "python",
   "pygments_lexer": "ipython3",
   "version": "3.12.0"
  }
 },
 "nbformat": 4,
 "nbformat_minor": 2
}
